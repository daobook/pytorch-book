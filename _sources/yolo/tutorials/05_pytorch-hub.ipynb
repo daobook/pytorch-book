{
 "cells": [
  {
   "cell_type": "markdown",
   "metadata": {},
   "source": [
    "# PyTorch Hub\n",
    "\n",
    "📚 本指南介绍了如何从 PyTorch Hub https://pytorch.org/hub/ultralytics_yolov5 中加载 YOLOv5 🚀。\n",
    "\n",
    "## 以前的做法\n",
    "\n",
    "从 **Python>=3.8** 的环境开始，并安装了 **PyTorch>=1.7**，以及 `pyyaml>=5.3` 用于读取 YOLOv5 配置文件。要安装 PyTorch 请参见[https://pytorch.org/get-started/locally](https://pytorch.org/get-started/locally) 。 安装 YOLOv5 [requirements](https://github.com/ultralytics/yolov5/blob/master/requirements.txt)。\n",
    "\n",
    "```bash\n",
    "$ pip install -r https://raw.githubusercontent.com/ultralytics/yolov5/master/requirements.txt\n",
    "```\n",
    "\n",
    "克隆 [ultralytics/yolov5](https://github.com/ultralytics/yolov5) 资源库是不需要的 😃。\n",
    "\n",
    "## 使用 PyTorch Hub 加载 YOLOv5\n",
    "\n",
    "### 简单例子\n",
    "\n",
    "这个例子从 PyTorch Hub 加载一个预训练的 YOLOv5s 模型作为 `model`，并传递一个图像进行推理。`'yolov5s'` 是最轻、最快的 YOLOv5 模型。有关所有可用模型的详细信息，请参见 [README](https://github.com/ultralytics/yolov5#pretrained-checkpoints)。"
   ]
  },
  {
   "cell_type": "code",
   "execution_count": 1,
   "metadata": {},
   "outputs": [
    {
     "name": "stderr",
     "output_type": "stream",
     "text": [
      "Using cache found in C:\\Users\\xinet/.cache\\torch\\hub\\ultralytics_yolov5_master\n",
      "YOLOv5  2022-1-15 torch 1.10.0 CUDA:0 (NVIDIA GeForce GTX 1080 Ti, 11264MiB)\n",
      "\n",
      "Fusing layers... \n",
      "Model Summary: 224 layers, 7266973 parameters, 0 gradients\n",
      "Adding AutoShape... \n"
     ]
    }
   ],
   "source": [
    "import torch\n",
    "\n",
    "# 载入模型\n",
    "model = torch.hub.load('ultralytics/yolov5', 'yolov5s')  # or yolov5m, yolov5x, custom"
   ]
  },
  {
   "cell_type": "code",
   "execution_count": 2,
   "metadata": {},
   "outputs": [
    {
     "name": "stderr",
     "output_type": "stream",
     "text": [
      "image 1/1: 720x1280 2 persons, 2 ties\n",
      "Speed: 40.5ms pre-process, 62.0ms inference, 26.0ms NMS per image at shape (1, 3, 384, 640)\n"
     ]
    }
   ],
   "source": [
    "# 图片来源 https://ultralytics.com/images/zidane.jpg\n",
    "img = 'images/zidane.jpg'  # or file, PIL, OpenCV, numpy, multiple\n",
    "\n",
    "# 推理本地图片\n",
    "results = model(img)\n",
    "\n",
    "# 结果\n",
    "results.print()  # or .show(), .save(), .crop(), .pandas(), etc."
   ]
  },
  {
   "cell_type": "code",
   "execution_count": 3,
   "metadata": {},
   "outputs": [
    {
     "data": {
      "text/plain": [
       "tensor([[7.49628e+02, 4.30064e+01, 1.14831e+03, 7.08739e+02, 8.76500e-01, 0.00000e+00],\n",
       "        [4.33496e+02, 4.33950e+02, 5.17908e+02, 7.15133e+02, 6.58129e-01, 2.70000e+01],\n",
       "        [1.13316e+02, 1.96360e+02, 1.09305e+03, 7.10308e+02, 5.96341e-01, 0.00000e+00],\n",
       "        [9.86140e+02, 3.04344e+02, 1.02797e+03, 4.20159e+02, 2.85011e-01, 2.70000e+01]], device='cuda:0')"
      ]
     },
     "execution_count": 3,
     "metadata": {},
     "output_type": "execute_result"
    }
   ],
   "source": [
    "results.xyxy[0] # 张量结果"
   ]
  },
  {
   "cell_type": "code",
   "execution_count": 4,
   "metadata": {},
   "outputs": [
    {
     "data": {
      "text/html": [
       "<div>\n",
       "<style scoped>\n",
       "    .dataframe tbody tr th:only-of-type {\n",
       "        vertical-align: middle;\n",
       "    }\n",
       "\n",
       "    .dataframe tbody tr th {\n",
       "        vertical-align: top;\n",
       "    }\n",
       "\n",
       "    .dataframe thead th {\n",
       "        text-align: right;\n",
       "    }\n",
       "</style>\n",
       "<table border=\"1\" class=\"dataframe\">\n",
       "  <thead>\n",
       "    <tr style=\"text-align: right;\">\n",
       "      <th></th>\n",
       "      <th>xmin</th>\n",
       "      <th>ymin</th>\n",
       "      <th>xmax</th>\n",
       "      <th>ymax</th>\n",
       "      <th>confidence</th>\n",
       "      <th>class</th>\n",
       "      <th>name</th>\n",
       "    </tr>\n",
       "  </thead>\n",
       "  <tbody>\n",
       "    <tr>\n",
       "      <th>0</th>\n",
       "      <td>749.628357</td>\n",
       "      <td>43.006378</td>\n",
       "      <td>1148.310181</td>\n",
       "      <td>708.739380</td>\n",
       "      <td>0.876500</td>\n",
       "      <td>0</td>\n",
       "      <td>person</td>\n",
       "    </tr>\n",
       "    <tr>\n",
       "      <th>1</th>\n",
       "      <td>433.496338</td>\n",
       "      <td>433.949524</td>\n",
       "      <td>517.907959</td>\n",
       "      <td>715.133118</td>\n",
       "      <td>0.658129</td>\n",
       "      <td>27</td>\n",
       "      <td>tie</td>\n",
       "    </tr>\n",
       "    <tr>\n",
       "      <th>2</th>\n",
       "      <td>113.315674</td>\n",
       "      <td>196.359955</td>\n",
       "      <td>1093.051270</td>\n",
       "      <td>710.308350</td>\n",
       "      <td>0.596341</td>\n",
       "      <td>0</td>\n",
       "      <td>person</td>\n",
       "    </tr>\n",
       "    <tr>\n",
       "      <th>3</th>\n",
       "      <td>986.139587</td>\n",
       "      <td>304.344147</td>\n",
       "      <td>1027.974243</td>\n",
       "      <td>420.158539</td>\n",
       "      <td>0.285011</td>\n",
       "      <td>27</td>\n",
       "      <td>tie</td>\n",
       "    </tr>\n",
       "  </tbody>\n",
       "</table>\n",
       "</div>"
      ],
      "text/plain": [
       "         xmin        ymin         xmax        ymax  confidence  class    name\n",
       "0  749.628357   43.006378  1148.310181  708.739380    0.876500      0  person\n",
       "1  433.496338  433.949524   517.907959  715.133118    0.658129     27     tie\n",
       "2  113.315674  196.359955  1093.051270  710.308350    0.596341      0  person\n",
       "3  986.139587  304.344147  1027.974243  420.158539    0.285011     27     tie"
      ]
     },
     "execution_count": 4,
     "metadata": {},
     "output_type": "execute_result"
    }
   ],
   "source": [
    "results.pandas().xyxy[0] # pandas 结果"
   ]
  },
  {
   "cell_type": "markdown",
   "metadata": {},
   "source": [
    "### 实例细节\n",
    "\n",
    "这个例子显示了用 **PIL** 和 **OpenCV** 图像源进行的 **分批推理**。结果可以**打印到控制台**，**保存到 `runs/hub`**，在支持的环境中 **显示到屏幕上**，并作为 **tensors** 或 **pandas** 数据帧返回。\n",
    "\n",
    "下面的图片可以直接下载：\n",
    "\n",
    "```python\n",
    "for f in ['zidane.jpg', 'bus.jpg']:\n",
    "   torch.hub.download_url_to_file('https://ultralytics.com/images/' + f, f)\n",
    "```\n",
    "\n",
    "或者直接使用本地图片："
   ]
  },
  {
   "cell_type": "code",
   "execution_count": 5,
   "metadata": {},
   "outputs": [
    {
     "name": "stderr",
     "output_type": "stream",
     "text": [
      "image 1/2: 720x1280 2 persons, 2 ties\n",
      "image 2/2: 1080x810 4 persons, 1 bus\n",
      "Speed: 37.8ms pre-process, 20.0ms inference, 3.5ms NMS per image at shape (2, 3, 640, 640)\n"
     ]
    }
   ],
   "source": [
    "_dir = 'images/'\n",
    "imgs = [_dir + f for f in ('zidane.jpg', 'bus.jpg')]\n",
    "\n",
    "# 推理\n",
    "results = model(imgs)\n",
    "results.print()  # or .show(), .save()"
   ]
  },
  {
   "cell_type": "code",
   "execution_count": 6,
   "metadata": {},
   "outputs": [
    {
     "name": "stderr",
     "output_type": "stream",
     "text": [
      "image 1/2: 720x1280 2 persons, 2 ties\n",
      "image 2/2: 1080x810 4 persons, 1 bus\n",
      "Speed: 26.5ms pre-process, 13.5ms inference, 4.0ms NMS per image at shape (2, 3, 640, 640)\n",
      "Saved 2 images to \u001b[1mruns\\detect\\exp2\u001b[0m\n"
     ]
    }
   ],
   "source": [
    "from PIL import Image\n",
    "from cv2 import cv2\n",
    "\n",
    "img1 = Image.open('images/zidane.jpg')  # PIL image\n",
    "img2 = cv2.imread('images/bus.jpg')[:, :, ::-1]  # OpenCV image (BGR to RGB)\n",
    "imgs = [img1, img2]  # batch of images\n",
    "results = model(imgs, size=640)  # includes NMS\n",
    "# 结果\n",
    "results.print()\n",
    "results.save()  # or .show()"
   ]
  },
  {
   "cell_type": "markdown",
   "metadata": {},
   "source": [
    "![](runs/hub/exp/image1.jpg)\n",
    "![](runs/hub/exp/zidane.jpg)\n",
    "\n",
    "所有的推理选项见 YOLOv5 `autoShape()` [前向方法](https://github.com/ultralytics/yolov5/blob/3551b072b366989b82b3777c63ea485a99e0bf90/models/common.py#L182-L191)。\n",
    "\n",
    "### 推理设置\n",
    "\n",
    "推理设置，如 **置信度阈值**、NMS **IoU 阈值** 和 **类** 过滤器是模型属性，可以通过以下方式修改："
   ]
  },
  {
   "cell_type": "code",
   "execution_count": 9,
   "metadata": {},
   "outputs": [
    {
     "name": "stderr",
     "output_type": "stream",
     "text": [
      "image 1/2: 720x1280 3 persons, 2 ties\n",
      "image 2/2: 1080x810 3 persons, 1 bus\n",
      "Speed: 2.0ms pre-process, 21.5ms inference, 15.5ms NMS per image at shape (2, 3, 320, 320)\n"
     ]
    }
   ],
   "source": [
    "model.conf = 0.25  # confidence threshold (0-1)\n",
    "model.iou = 0.45  # NMS IoU threshold (0-1)\n",
    "model.classes = None  # (optional list) filter by class, i.e. = [0, 15, 16] for persons, cats and dogs\n",
    "\n",
    "results = model(imgs, size=320)  # custom inference size\n",
    "results.print()"
   ]
  },
  {
   "cell_type": "markdown",
   "metadata": {},
   "source": [
    "### 输入通道\n",
    "\n",
    "要加载一个预训练的 YOLOv5s 模型，有 4 个输入通道而不是默认的 3 个：\n",
    "\n",
    "```python\n",
    "model = torch.hub.load('ultralytics/yolov5', 'yolov5s', channels=4)\n",
    "```\n",
    "\n",
    "在这种情况下，模型将由预训练的权重组成，**除了** 最开始的输入层，它的形状不再与预训练的输入层相同。输入层将继续由随机权重初始化。\n",
    "\n",
    "### 类的数量\n",
    "\n",
    "要加载一个预训练的 YOLOv5s 模型，有 10 个输出类，而不是默认的 80 个：\n",
    "\n",
    "```python\n",
    "model = torch.hub.load('ultralytics/yolov5', 'yolov5s', classes=10)\n",
    "```\n",
    "\n",
    "在这种情况下，模型将由预训练的权重组成，除了输出层，输出层的形状不再与预训练的输出层相同。输出层将继续由随机权重初始化。\n",
    "\n",
    "### 强制重新加载\n",
    "\n",
    "如果您在上述步骤中遇到问题，设置 `force_reload=True` 可能会有帮助，它可以丢弃现有的缓存并强制从 PyTorch Hub 重新下载最新的 YOLOv5 版本。\n",
    "\n",
    "```python\n",
    "model = torch.hub.load('ultralytics/yolov5', 'yolov5s', force_reload=True)  # force reload\n",
    "```\n",
    "\n",
    "### 训练\n",
    "\n",
    "要加载 YOLOv5 模型进行训练而不是推理，请设置 `autoshape=False`。要加载一个具有随机初始化权重的模型（从头开始训练），使用`pretrained=False`。\n",
    "\n",
    "```python\n",
    "model = torch.hub.load('ultralytics/yolov5', 'yolov5s', autoshape=False)  # load pretrained\n",
    "model = torch.hub.load('ultralytics/yolov5', 'yolov5s', autoshape=False, pretrained=False)  # load scratch\n",
    "```\n",
    "\n",
    "### Base64 结果\n",
    "\n",
    "用于 API 服务。详见 <https://github.com/ultralytics/yolov5/pull/2291> 和 [Flask REST API](https://github.com/ultralytics/yolov5/tree/master/utils/flask_rest_api) 例子。\n",
    "\n",
    "```python\n",
    "import base64\n",
    "from io import BytesIO\n",
    "\n",
    "results = model(imgs)  # inference\n",
    "\n",
    "results.imgs # array of original images (as np array) passed to model for inference\n",
    "results.render()  # updates results.imgs with boxes and labels\n",
    "for img in results.imgs:\n",
    "    buffered = BytesIO()\n",
    "    img_base64 = Image.fromarray(img)\n",
    "    img_base64.save(buffered, format=\"JPEG\")\n",
    "    # base64 encoded image with results\n",
    "    res = base64.b64encode(buffered.getvalue()).decode('utf-8')\n",
    "    print(res)\n",
    "```\n",
    "\n",
    "### JSON 结果\n",
    "\n",
    "一旦使用 `.to_json()` 方法转换为 `.pandas()` 数据帧，结果就可以以 JSON 格式返回。JSON 格式可以使用 `orient` 参数进行修改。详见 pandas .to_json() [文档](https://pandas.pydata.org/docs/reference/api/pandas.DataFrame.to_json.html) 。"
   ]
  },
  {
   "cell_type": "code",
   "execution_count": 14,
   "metadata": {},
   "outputs": [
    {
     "data": {
      "text/plain": [
       "'[{\"xmin\":157.9674682617,\"ymin\":201.7145080566,\"xmax\":751.6185302734,\"ymax\":686.0665283203,\"confidence\":0.9025849104,\"class\":0,\"name\":\"person\"},{\"xmin\":770.92578125,\"ymin\":53.1617126465,\"xmax\":1117.6053466797,\"ymax\":706.3565673828,\"confidence\":0.9000060558,\"class\":0,\"name\":\"person\"},{\"xmin\":436.2830810547,\"ymin\":432.2611083984,\"xmax\":514.8706054688,\"ymax\":689.2235107422,\"confidence\":0.605379045,\"class\":27,\"name\":\"tie\"},{\"xmin\":1140.7426757812,\"ymin\":382.8111572266,\"xmax\":1274.3686523438,\"ymax\":708.5679931641,\"confidence\":0.345140636,\"class\":0,\"name\":\"person\"}]'"
      ]
     },
     "execution_count": 14,
     "metadata": {},
     "output_type": "execute_result"
    }
   ],
   "source": [
    "results = model(imgs)  # inference\n",
    "\n",
    "results.pandas().xyxy[0].to_json(orient=\"records\")  # JSON img1 predictions"
   ]
  },
  {
   "cell_type": "markdown",
   "metadata": {},
   "source": [
    "## 自定义模型\n",
    "\n",
    "这个例子用 PyTorch Hub 加载一个自定义的 20 类 [VOC](https://github.com/ultralytics/yolov5/blob/master/data/voc.yaml) 训练的 YOLOv5s 模型`'best.pt'`。\n",
    "\n",
    "```python\n",
    "model = torch.hub.load('ultralytics/yolov5', 'custom', path='path/to/best.pt')  # default\n",
    "model = torch.hub.load('path/to/yolov5', 'custom', path='path/to/best.pt', source='local')  # local repo\n",
    "```"
   ]
  }
 ],
 "metadata": {
  "kernelspec": {
   "display_name": "Python 3",
   "language": "python",
   "name": "python3"
  },
  "language_info": {
   "codemirror_mode": {
    "name": "ipython",
    "version": 3
   },
   "file_extension": ".py",
   "mimetype": "text/x-python",
   "name": "python",
   "nbconvert_exporter": "python",
   "pygments_lexer": "ipython3",
   "version": "3.9.5"
  },
  "nbTranslate": {
   "displayLangs": [
    "*"
   ],
   "hotkey": "alt-t",
   "langInMainMenu": true,
   "sourceLang": "en",
   "targetLang": "fr",
   "useGoogleTranslate": true
  }
 },
 "nbformat": 4,
 "nbformat_minor": 2
}
