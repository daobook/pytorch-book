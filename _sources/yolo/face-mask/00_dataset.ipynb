{
 "cells": [
  {
   "cell_type": "markdown",
   "id": "f010d203",
   "metadata": {},
   "source": [
    "# 数据制作\n",
    "\n",
    "详细内容见：[训练自定义数据](yolo:tutorials:train-custom-datasets)\n",
    "\n",
    "从 Kaggle 下载 [数据集](https://www.kaggle.com/andrewmvd/face-mask-detection)：\n",
    "\n",
    "```sh\n",
    "kaggle datasets download -d andrewmvd/face-mask-detection\n",
    "```\n",
    "\n",
    "解压到 `root`（可自行决定）："
   ]
  },
  {
   "cell_type": "code",
   "execution_count": 1,
   "id": "15011e96",
   "metadata": {},
   "outputs": [],
   "source": [
    "# 数据集根目录\n",
    "root = r\"E:\\kaggle\\datasets\\face-mask-detection\"\n",
    "# 标签名称\n",
    "names = ['with_mask', 'mask_weared_incorrect', 'without_mask']"
   ]
  },
  {
   "cell_type": "markdown",
   "id": "28b710b0",
   "metadata": {},
   "source": [
    "导入一些库："
   ]
  },
  {
   "cell_type": "code",
   "execution_count": 2,
   "id": "38d5ffd6",
   "metadata": {},
   "outputs": [],
   "source": [
    "from pathlib import Path\n",
    "\n",
    "from utils.file import ObjectPath"
   ]
  },
  {
   "cell_type": "markdown",
   "id": "d3c3622f",
   "metadata": {},
   "source": [
    "1. 将数据集划分为训练集（$80\\%$）、验证集（$20\\%$）。\n",
    "2. 从验证集取出若干（如 `show_count=5`）作为测试集。"
   ]
  },
  {
   "cell_type": "code",
   "execution_count": 3,
   "id": "d702fb9a",
   "metadata": {},
   "outputs": [],
   "source": [
    "dataset = ObjectPath(root, names)\n",
    "dataset.split(show_count=5)"
   ]
  },
  {
   "cell_type": "markdown",
   "id": "f0cf63ef",
   "metadata": {},
   "source": [
    "查看测试集："
   ]
  },
  {
   "cell_type": "code",
   "execution_count": 4,
   "id": "289a5da4",
   "metadata": {},
   "outputs": [
    {
     "data": {
      "text/plain": [
       "['E:/kaggle/datasets/face-mask-detection/images/maksssksksss466.png',\n",
       " 'E:/kaggle/datasets/face-mask-detection/images/maksssksksss697.png',\n",
       " 'E:/kaggle/datasets/face-mask-detection/images/maksssksksss615.png',\n",
       " 'E:/kaggle/datasets/face-mask-detection/images/maksssksksss462.png',\n",
       " 'E:/kaggle/datasets/face-mask-detection/images/maksssksksss634.png']"
      ]
     },
     "execution_count": 4,
     "metadata": {},
     "output_type": "execute_result"
    }
   ],
   "source": [
    "dataset.images_test"
   ]
  },
  {
   "cell_type": "code",
   "execution_count": 5,
   "id": "25b6c408",
   "metadata": {},
   "outputs": [
    {
     "data": {
      "text/plain": [
       "['E:/kaggle/datasets/face-mask-detection/annotations/maksssksksss466.xml',\n",
       " 'E:/kaggle/datasets/face-mask-detection/annotations/maksssksksss697.xml',\n",
       " 'E:/kaggle/datasets/face-mask-detection/annotations/maksssksksss615.xml',\n",
       " 'E:/kaggle/datasets/face-mask-detection/annotations/maksssksksss462.xml',\n",
       " 'E:/kaggle/datasets/face-mask-detection/annotations/maksssksksss634.xml']"
      ]
     },
     "execution_count": 5,
     "metadata": {},
     "output_type": "execute_result"
    }
   ],
   "source": [
    "dataset.labels_test"
   ]
  },
  {
   "cell_type": "markdown",
   "id": "d016ee5c",
   "metadata": {},
   "source": [
    "## 复制图片数据"
   ]
  },
  {
   "cell_type": "code",
   "execution_count": 6,
   "id": "0c8ce6d8",
   "metadata": {},
   "outputs": [],
   "source": [
    "new_root = 'datasets' # 目标目录\n",
    "images_dir = f\"{new_root}/images\""
   ]
  },
  {
   "cell_type": "markdown",
   "id": "5f0ff7c4",
   "metadata": {},
   "source": [
    "将图片数据按照已经划分好的规则复制到新的目录："
   ]
  },
  {
   "cell_type": "code",
   "execution_count": 7,
   "id": "56ad2e06",
   "metadata": {
    "scrolled": true
   },
   "outputs": [],
   "source": [
    "dataset.copy_images(images_dir)"
   ]
  },
  {
   "cell_type": "markdown",
   "id": "50666191",
   "metadata": {},
   "source": [
    "## 制作标签数据"
   ]
  },
  {
   "cell_type": "code",
   "execution_count": 8,
   "id": "398c34dd",
   "metadata": {},
   "outputs": [],
   "source": [
    "labels_dir = f\"{new_root}/labels\""
   ]
  },
  {
   "cell_type": "markdown",
   "id": "d8fc0c89",
   "metadata": {},
   "source": [
    "标签需要归一化："
   ]
  },
  {
   "cell_type": "code",
   "execution_count": 9,
   "id": "56cbc373",
   "metadata": {},
   "outputs": [],
   "source": [
    "dataset.write_labels(labels_dir)"
   ]
  },
  {
   "cell_type": "code",
   "execution_count": null,
   "id": "52dd0d6d",
   "metadata": {},
   "outputs": [],
   "source": []
  }
 ],
 "metadata": {
  "kernelspec": {
   "display_name": "PyTorch",
   "language": "python",
   "name": "torch"
  },
  "language_info": {
   "codemirror_mode": {
    "name": "ipython",
    "version": 3
   },
   "file_extension": ".py",
   "mimetype": "text/x-python",
   "name": "python",
   "nbconvert_exporter": "python",
   "pygments_lexer": "ipython3",
   "version": "3.9.5"
  },
  "nbTranslate": {
   "displayLangs": [
    "*"
   ],
   "hotkey": "alt-t",
   "langInMainMenu": true,
   "sourceLang": "en",
   "targetLang": "fr",
   "useGoogleTranslate": true
  }
 },
 "nbformat": 4,
 "nbformat_minor": 5
}
