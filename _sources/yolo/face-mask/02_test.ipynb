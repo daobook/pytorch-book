{
 "cells": [
  {
   "cell_type": "markdown",
   "id": "2fd008b6",
   "metadata": {},
   "source": [
    "# 测试"
   ]
  },
  {
   "cell_type": "code",
   "execution_count": 1,
   "id": "fd681f2c",
   "metadata": {},
   "outputs": [
    {
     "data": {
      "text/plain": [
       "'0'"
      ]
     },
     "execution_count": 1,
     "metadata": {},
     "output_type": "execute_result"
    }
   ],
   "source": [
    "import torch\n",
    "\n",
    "model_name = 'yolov5m'\n",
    "image_size = 640\n",
    "batch_size = 16\n",
    "epochs = 10\n",
    "device = '1' if torch.cuda.is_available() else 'cpu'\n",
    "saved_model_name = 'best.pt'\n",
    "\n",
    "# for test\n",
    "confidence_threshold = 0.25 # Threshold of object inference\n",
    "iou_threshold = 0.45 # Threshold of remove overlapping boxes\n",
    "\n",
    "device"
   ]
  },
  {
   "cell_type": "code",
   "execution_count": null,
   "id": "e713f022",
   "metadata": {},
   "outputs": [],
   "source": [
    "!python3 {yolo_path}detect.py --weights {submission_path}{saved_model_name} \\\n",
    "        --source {new_images_path + sub_directories[2]} --img-size {image_size} \\\n",
    "        --conf-thres {confidence_threshold} --iou-thres {iou_threshold} --device {device} \\\n",
    "        --hide-labels --hide-conf"
   ]
  }
 ],
 "metadata": {
  "kernelspec": {
   "display_name": "PyTorch",
   "language": "python",
   "name": "torch"
  },
  "language_info": {
   "codemirror_mode": {
    "name": "ipython",
    "version": 3
   },
   "file_extension": ".py",
   "mimetype": "text/x-python",
   "name": "python",
   "nbconvert_exporter": "python",
   "pygments_lexer": "ipython3",
   "version": "3.9.5"
  },
  "nbTranslate": {
   "displayLangs": [
    "*"
   ],
   "hotkey": "alt-t",
   "langInMainMenu": true,
   "sourceLang": "en",
   "targetLang": "fr",
   "useGoogleTranslate": true
  }
 },
 "nbformat": 4,
 "nbformat_minor": 5
}
