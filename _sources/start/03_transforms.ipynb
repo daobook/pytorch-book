{
 "cells": [
  {
   "cell_type": "markdown",
   "id": "e4a7624f",
   "metadata": {},
   "source": [
    "# 变换\n",
    "\n",
    "数据并不总是以训练机器学习算法所需的最终处理形式出现。使用 `transforms` 来执行一些数据操作，使其适合于训练。所有 TorchVision 数据集都有两个参数：用于修改特征的 `transform` 和用于修改标签的 `target_transform`。它们接受包含变换逻辑的可调用对象。[torchvision.transforms](https://pytorch.org/vision/stable/transforms.html) 模块提供了几种常用的开箱即用的变换。\n",
    "\n",
    "FashionMNIST 函数是 PIL 图像格式，标签是整数。为了进行训练，需要将特征作为归一化张量，标签作为一个热编码张量。为了做这些变换，使用 `ToTensor` 和 `Lambda`。"
   ]
  },
  {
   "cell_type": "code",
   "execution_count": 1,
   "id": "2ceaac3e",
   "metadata": {},
   "outputs": [
    {
     "name": "stderr",
     "output_type": "stream",
     "text": [
      "C:\\Users\\xinet\\.conda\\envs\\torch\\lib\\site-packages\\torchvision\\datasets\\mnist.py:498: UserWarning: The given NumPy array is not writeable, and PyTorch does not support non-writeable tensors. This means you can write to the underlying (supposedly non-writeable) NumPy array using the tensor. You may want to copy the array to protect its data or make it writeable before converting it to a tensor. This type of warning will be suppressed for the rest of this program. (Triggered internally at  ..\\torch\\csrc\\utils\\tensor_numpy.cpp:180.)\n",
      "  return torch.from_numpy(parsed.astype(m[2], copy=False)).view(*s)\n"
     ]
    }
   ],
   "source": [
    "import torch\n",
    "from torchvision import datasets\n",
    "from torchvision.transforms import ToTensor, Lambda\n",
    "\n",
    "\n",
    "f = lambda y: torch.zeros(10, \n",
    "                          dtype=torch.float).scatter_(0, \n",
    "                                                      torch.tensor(y), \n",
    "                                                      value=1)\n",
    "\n",
    "\n",
    "ds = datasets.FashionMNIST(\n",
    "    root=\"../../datasets\",\n",
    "    train=True,\n",
    "    download=True,\n",
    "    transform=ToTensor(),\n",
    "    target_transform=Lambda(f)\n",
    ")"
   ]
  },
  {
   "cell_type": "markdown",
   "id": "abe3e20a",
   "metadata": {},
   "source": [
    "## `ToTensor()`\n",
    "\n",
    "`ToTensor` 将 `PIL` 图像或 NumPy `ndarray` 转换为 `FloatTensor`。并将图像的像素强度值在 $[0, 1]$范围内进行缩放。\n",
    "\n",
    "## `Lambda` 变换\n",
    "\n",
    "`Lambda` 转换应用任何用户定义的 `lambda` 函数。这里，我们定义一个函数将整数转换为一个热编码张量。它首先创建一个大小为 10 的零张量(数据集中标签的数量)，然后调用 `scatter_`，它在标签 `y` 给出的索引上赋值为 `1`。"
   ]
  },
  {
   "cell_type": "code",
   "execution_count": 2,
   "id": "5658d461",
   "metadata": {},
   "outputs": [],
   "source": [
    "target_transform = Lambda(lambda y: torch.zeros(\n",
    "    10, dtype=torch.float).scatter_(dim=0, index=torch.tensor(y), value=1))"
   ]
  },
  {
   "cell_type": "code",
   "execution_count": null,
   "id": "1b4911a0",
   "metadata": {},
   "outputs": [],
   "source": []
  }
 ],
 "metadata": {
  "jupytext": {
   "formats": "md:myst,ipynb",
   "text_representation": {
    "extension": ".md",
    "format_name": "myst",
    "format_version": 0.13,
    "jupytext_version": "1.10.3"
   }
  },
  "kernelspec": {
   "display_name": "PyTorch",
   "language": "python",
   "name": "torch"
  },
  "language_info": {
   "codemirror_mode": {
    "name": "ipython",
    "version": 3
   },
   "file_extension": ".py",
   "mimetype": "text/x-python",
   "name": "python",
   "nbconvert_exporter": "python",
   "pygments_lexer": "ipython3",
   "version": "3.9.5"
  },
  "nbTranslate": {
   "displayLangs": [
    "*"
   ],
   "hotkey": "alt-t",
   "langInMainMenu": true,
   "sourceLang": "en",
   "targetLang": "fr",
   "useGoogleTranslate": true
  }
 },
 "nbformat": 4,
 "nbformat_minor": 5
}
