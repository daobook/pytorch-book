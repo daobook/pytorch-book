{
 "cells": [
  {
   "cell_type": "markdown",
   "id": "96e6a88f",
   "metadata": {},
   "source": [
    "# 自动微分\n",
    "\n",
    "参考：[Automatic Differentiation with torch.autograd](https://pytorch.org/tutorials/beginner/basics/autogradqs_tutorial.html) & [自动求导 — 动手学深度学习](https://zh-v2.d2l.ai/chapter_preliminaries/autograd.html)\n",
    "\n",
    "深度学习框架一般都默认支持自动微分机制（automatic differentiation）。以 $y = \\mathbf{x}^T \\mathbf{x}$ 为例，下面求解：$\\nabla_{\\mathbf{x}} y$。首先，设置初始值："
   ]
  },
  {
   "cell_type": "code",
   "execution_count": 1,
   "id": "7d654889",
   "metadata": {},
   "outputs": [
    {
     "data": {
      "text/plain": [
       "tensor([[1.],\n",
       "        [2.],\n",
       "        [3.],\n",
       "        [4.]])"
      ]
     },
     "execution_count": 1,
     "metadata": {},
     "output_type": "execute_result"
    }
   ],
   "source": [
    "import torch\n",
    "x = torch.tensor([[1.], [2], [3], [4]]) # 注意，仅仅支持浮点数\n",
    "x # 一个列向量"
   ]
  },
  {
   "cell_type": "markdown",
   "id": "3700b3fa",
   "metadata": {},
   "source": [
    "在计算梯度之前，需要存储申请记录梯度："
   ]
  },
  {
   "cell_type": "code",
   "execution_count": 2,
   "id": "39048fb8",
   "metadata": {},
   "outputs": [],
   "source": [
    "# 等价于 `x = torch.tensor([[1.], [2], [3], [4]], requires_grad=True)`\n",
    "x.requires_grad_(True)\n",
    "x.grad  # 默认值是 None"
   ]
  },
  {
   "cell_type": "markdown",
   "id": "6bc3678e",
   "metadata": {},
   "source": [
    "这样，可以计算 $y$（`@` 是矩阵运算的简写）："
   ]
  },
  {
   "cell_type": "code",
   "execution_count": 3,
   "id": "b30ee5de",
   "metadata": {},
   "outputs": [
    {
     "data": {
      "text/plain": [
       "tensor([[30.]], grad_fn=<MmBackward>)"
      ]
     },
     "execution_count": 3,
     "metadata": {},
     "output_type": "execute_result"
    }
   ],
   "source": [
    "y = x.T @ x\n",
    "y"
   ]
  },
  {
   "cell_type": "markdown",
   "id": "e3d721d6",
   "metadata": {},
   "source": [
    "接着，可以进行反向传播计算 $\\mathbf{x}$ 的梯度："
   ]
  },
  {
   "cell_type": "code",
   "execution_count": 4,
   "id": "899034f8",
   "metadata": {},
   "outputs": [
    {
     "data": {
      "text/plain": [
       "tensor([[2.],\n",
       "        [4.],\n",
       "        [6.],\n",
       "        [8.]])"
      ]
     },
     "execution_count": 4,
     "metadata": {},
     "output_type": "execute_result"
    }
   ],
   "source": [
    "y.backward()\n",
    "x.grad"
   ]
  },
  {
   "cell_type": "markdown",
   "id": "00ea9a87",
   "metadata": {},
   "source": [
    "由于 $\\nabla_{\\mathbf{x}} y = 2 {\\mathbf{x}}$，下面可以进行验证："
   ]
  },
  {
   "cell_type": "code",
   "execution_count": 5,
   "id": "27b09a44",
   "metadata": {},
   "outputs": [
    {
     "data": {
      "text/plain": [
       "tensor([[True],\n",
       "        [True],\n",
       "        [True],\n",
       "        [True]])"
      ]
     },
     "execution_count": 5,
     "metadata": {},
     "output_type": "execute_result"
    }
   ],
   "source": [
    "x.grad == 2 * x"
   ]
  },
  {
   "cell_type": "code",
   "execution_count": null,
   "id": "fbde09f4",
   "metadata": {},
   "outputs": [],
   "source": []
  }
 ],
 "metadata": {
  "kernelspec": {
   "display_name": "PyTorch",
   "language": "python",
   "name": "torch"
  },
  "language_info": {
   "codemirror_mode": {
    "name": "ipython",
    "version": 3
   },
   "file_extension": ".py",
   "mimetype": "text/x-python",
   "name": "python",
   "nbconvert_exporter": "python",
   "pygments_lexer": "ipython3",
   "version": "3.9.5"
  },
  "nbTranslate": {
   "displayLangs": [
    "*"
   ],
   "hotkey": "alt-t",
   "langInMainMenu": true,
   "sourceLang": "en",
   "targetLang": "fr",
   "useGoogleTranslate": true
  }
 },
 "nbformat": 4,
 "nbformat_minor": 5
}
