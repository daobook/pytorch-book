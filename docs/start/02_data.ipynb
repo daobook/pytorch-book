{
 "cells": [
  {
   "cell_type": "markdown",
   "id": "9249c600",
   "metadata": {},
   "source": [
    "# Dataset 和 Dataloader\n",
    "\n",
    "参考：[Datasets & Dataloaders](https://pytorch.org/tutorials/beginner/basics/data_tutorial.html)\n",
    "\n",
    "`torch.autograd` 实现自动微分\n",
    "\n",
    "处理数据样本的代码可能会变得混乱且难以维护；理想情况下，希望数据集代码与模型训练代码解耦，以获得更好的可读性和模块化。PyTorch 提供了两个数据原语：`torch.utils.data.DataLoader` 和 `torch.utils.data.Dataset`，它们允许使用预加载的数据集以及自定义的数据。`Dataset` 存储样本及其相应的标签，`DataLoader` 在 `Dataset` 周围包装一个可迭代对象以方便访问样本。\n",
    "\n",
    "PyTorch 域库提供了许多预加载的数据集（比如 {term}`Fashion MNIST`），这些数据集继承了 `torch.utils.data.Dataset` 的子类，并实现了特定于特定数据的函数。它们可以用于模型原型（prototype）和基准测试（benchmark）。细节见 [图像数据集](https://pytorch.org/vision/stable/datasets.html)，[文本数据集](https://pytorch.org/text/stable/datasets.html) 和[音频数据集](https://pytorch.org/audio/stable/datasets.html)。\n",
    "\n",
    "## 加载 `Dataset`\n",
    "\n",
    "下面是如何从 TorchVision 加载 Fashion MNIST 数据集的示例。Fashion MNIST 是 Zalando 文章图像的数据集，包含 $60\\,000$ 个训练样本和 $10\\,000$ 个测试样本。\n",
    "\n",
    "加载 Fashion MNIST 数据集的参数：\n",
    "\n",
    "- `root` 是存储 train/test 数据的路径\n",
    "- `train` 指定训练或测试数据集\n",
    "- `download=True` 如果数据在根目录下不可用，则从互联网上下载数据\n",
    "- `transform` 和 `target_transform` 指定特征和标签变换"
   ]
  },
  {
   "cell_type": "code",
   "execution_count": 1,
   "id": "24c667ab",
   "metadata": {},
   "outputs": [
    {
     "name": "stderr",
     "output_type": "stream",
     "text": [
      "C:\\Users\\xinet\\.conda\\envs\\torch\\lib\\site-packages\\torchvision\\datasets\\mnist.py:498: UserWarning: The given NumPy array is not writeable, and PyTorch does not support non-writeable tensors. This means you can write to the underlying (supposedly non-writeable) NumPy array using the tensor. You may want to copy the array to protect its data or make it writeable before converting it to a tensor. This type of warning will be suppressed for the rest of this program. (Triggered internally at  ..\\torch\\csrc\\utils\\tensor_numpy.cpp:180.)\n",
      "  return torch.from_numpy(parsed.astype(m[2], copy=False)).view(*s)\n"
     ]
    }
   ],
   "source": [
    "import torch\n",
    "from torch.utils.data import Dataset\n",
    "from torchvision import datasets\n",
    "from torchvision.transforms import ToTensor\n",
    "import matplotlib.pyplot as plt\n",
    "\n",
    "\n",
    "root = '../../datasets'\n",
    "\n",
    "training_data = datasets.FashionMNIST(\n",
    "    root=root,\n",
    "    train=True,\n",
    "    download=True,\n",
    "    transform=ToTensor()\n",
    ")\n",
    "\n",
    "test_data = datasets.FashionMNIST(\n",
    "    root=root,\n",
    "    train=False,\n",
    "    download=True,\n",
    "    transform=ToTensor()\n",
    ")"
   ]
  },
  {
   "cell_type": "markdown",
   "id": "89db9c71",
   "metadata": {},
   "source": [
    "## 迭代和可视化 `Dataset`\n",
    "\n",
    "- 可以像 `training_data[index]` 那样手动索引数据集。\n",
    "- 使用 `matplotlib` 可视化训练数据中的一些样本。"
   ]
  },
  {
   "cell_type": "code",
   "execution_count": 2,
   "id": "b17250be",
   "metadata": {},
   "outputs": [
    {
     "data": {
      "image/png": "[encoded data removed]",
      "text/plain": [
       "<Figure size 576x576 with 9 Axes>"
      ]
     },
     "metadata": {
      "needs_background": "light"
     },
     "output_type": "display_data"
    }
   ],
   "source": [
    "labels_map = training_data.classes # 获取类别列表\n",
    "figure = plt.figure(figsize=(8, 8))\n",
    "cols, rows = 3, 3\n",
    "for i in range(1, cols * rows + 1):\n",
    "    sample_idx = torch.randint(len(training_data), size=(1,)).item()\n",
    "    img, label = training_data[sample_idx]\n",
    "    figure.add_subplot(rows, cols, i)\n",
    "    plt.title(labels_map[label])\n",
    "    plt.axis(\"off\")\n",
    "    plt.imshow(img.squeeze(), cmap=\"gray\")\n",
    "plt.show()"
   ]
  },
  {
   "cell_type": "markdown",
   "id": "9ed6d40b",
   "metadata": {},
   "source": [
    "## 创建自定义数据集\n",
    "\n",
    "自定义数据集类必须实现三个函数：`__init__`， `__len__` 和 `__getitem__`。比如 FashionMNIST 图像存储在一个目录 `img_dir` 中，它们的标签分别存储在一个 CSV 文件 `annotations_file` 中。"
   ]
  },
  {
   "cell_type": "code",
   "execution_count": 3,
   "id": "cd681ae8",
   "metadata": {},
   "outputs": [],
   "source": [
    "import os\n",
    "import pandas as pd\n",
    "from torchvision.io import read_image\n",
    "\n",
    "\n",
    "class CustomImageDataset(Dataset):\n",
    "    def __init__(self, annotations_file, img_dir, transform=None, target_transform=None):\n",
    "        self.img_labels = pd.read_csv(annotations_file)\n",
    "        self.img_dir = img_dir\n",
    "        self.transform = transform\n",
    "        self.target_transform = target_transform\n",
    "\n",
    "    def __len__(self):\n",
    "        return len(self.img_labels)\n",
    "\n",
    "    def __getitem__(self, idx):\n",
    "        img_path = os.path.join(self.img_dir, self.img_labels.iloc[idx, 0])\n",
    "        image = read_image(img_path)\n",
    "        label = self.img_labels.iloc[idx, 1]\n",
    "        if self.transform:\n",
    "            image = self.transform(image)\n",
    "        if self.target_transform:\n",
    "            label = self.target_transform(label)\n",
    "        return image, label"
   ]
  },
  {
   "cell_type": "markdown",
   "id": "257ddd97",
   "metadata": {},
   "source": [
    "### `__init__`\n",
    "\n",
    "`__init__` 函数在实例化 `Dataset` 对象时运行一次。初始化包含图像、标注文件和这两种变换的目录。\n",
    "\n",
    "`labels.csv` 文件看起来像这样：\n",
    "\n",
    "```\n",
    "tshirt1.jpg, 0\n",
    "tshirt2.jpg, 0\n",
    "......\n",
    "ankleboot999.jpg, 9\n",
    "```\n",
    "\n",
    "### `__len__`\n",
    "\n",
    "`__len__` 函数返回数据集中的样本数量。\n",
    "\n",
    "### `__getitem__`\n",
    "\n",
    "`__getitem__` 函数从数据集的给定索引 `idx` 处加载并返回一个样本。基于索引，它识别图像在磁盘上的位置，使用 `read_image` 将其转换为张量，从在 `self.img_labels` 中的 csv 数据检索相应的标签，调用它们的变换函数（如果适用），并返回张量图像和相应的标签组成的元组。\n",
    "\n",
    "## 使用 `DataLoader` 准备训练数据\n",
    "\n",
    "`Dataset` 检索我们的数据集的特征和标签，且一次一个样本。在训练模型时，通常希望以“小批量”的方式通过样本，在每个 epoch 重新编排数据以减少模型过拟合，并使用 Python 的 `multiprocessing` 来加快数据检索。\n",
    "\n",
    "`DataLoader` 是一个可迭代对象，它在一个简单的 API 中为我们抽象了这种复杂性。"
   ]
  },
  {
   "cell_type": "code",
   "execution_count": 4,
   "id": "2d5af4c2",
   "metadata": {},
   "outputs": [],
   "source": [
    "from torch.utils.data import DataLoader\n",
    "\n",
    "train_dataloader = DataLoader(training_data, batch_size=64, shuffle=True)\n",
    "test_dataloader = DataLoader(test_data, batch_size=64, shuffle=True)"
   ]
  },
  {
   "cell_type": "markdown",
   "id": "96bc6691",
   "metadata": {},
   "source": [
    "## 遍历 `DataLoader`\n",
    "\n",
    "已经将该数据集加载到 `Dataloader` 中，并可以根据需要遍历该数据集。下面的每次迭代返回一批 `train_features` 和 `train_labels`(分别包含 `batch_size=64` 个特征和标签)。因为指定了 `shuffle=True`，所以在遍历所有批次之后，数据被打乱(为了更细粒度地控制数据加载顺序，请查看 [Samplers](https://pytorch.org/docs/stable/data.html#data-loading-order-and-sampler))。"
   ]
  },
  {
   "cell_type": "code",
   "execution_count": 5,
   "id": "d8237121",
   "metadata": {},
   "outputs": [
    {
     "name": "stdout",
     "output_type": "stream",
     "text": [
      "Feature batch shape: torch.Size([64, 1, 28, 28])\n",
      "Labels batch shape: torch.Size([64])\n"
     ]
    },
    {
     "data": {
      "image/png": "[encoded data removed]",
      "text/plain": [
       "<Figure size 432x288 with 1 Axes>"
      ]
     },
     "metadata": {
      "needs_background": "light"
     },
     "output_type": "display_data"
    },
    {
     "name": "stdout",
     "output_type": "stream",
     "text": [
      "Label: 1\n"
     ]
    }
   ],
   "source": [
    "# Display image and label.\n",
    "train_features, train_labels = next(iter(train_dataloader))\n",
    "print(f\"Feature batch shape: {train_features.size()}\")\n",
    "print(f\"Labels batch shape: {train_labels.size()}\")\n",
    "img = train_features[0].squeeze()\n",
    "label = train_labels[0]\n",
    "plt.imshow(img, cmap=\"gray\")\n",
    "plt.show()\n",
    "print(f\"Label: {label}\")"
   ]
  },
  {
   "cell_type": "code",
   "execution_count": null,
   "id": "7d2f6807",
   "metadata": {},
   "outputs": [],
   "source": []
  }
 ],
 "metadata": {
  "jupytext": {
   "formats": "md:myst,ipynb",
   "text_representation": {
    "extension": ".md",
    "format_name": "myst",
    "format_version": 0.13,
    "jupytext_version": "1.10.3"
   }
  },
  "kernelspec": {
   "display_name": "PyTorch",
   "language": "python",
   "name": "torch"
  },
  "language_info": {
   "codemirror_mode": {
    "name": "ipython",
    "version": 3
   },
   "file_extension": ".py",
   "mimetype": "text/x-python",
   "name": "python",
   "nbconvert_exporter": "python",
   "pygments_lexer": "ipython3",
   "version": "3.9.5"
  },
  "nbTranslate": {
   "displayLangs": [
    "*"
   ],
   "hotkey": "alt-t",
   "langInMainMenu": true,
   "sourceLang": "en",
   "targetLang": "fr",
   "useGoogleTranslate": true
  }
 },
 "nbformat": 4,
 "nbformat_minor": 5
}
