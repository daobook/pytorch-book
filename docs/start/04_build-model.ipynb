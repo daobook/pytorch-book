{
 "cells": [
  {
   "cell_type": "markdown",
   "id": "c33a5505",
   "metadata": {},
   "source": [
    "# 构建神经网络\n",
    "\n",
    "神经网络由对数据进行操作的 layers/modules 组成。[`torch.nn`](https://pytorch.org/docs/stable/nn.html) 命名空间提供了构建神经网络所需的所有构建块。PyTorch 中的每个 `module ` 都继承自 [nn.Module](https://pytorch.org/docs/stable/generated/torch.nn.Module.html)。神经网络本身是由其他模块（layers）组成的模块。这种嵌套结构允许轻松地构建和管理复杂的体系结构。\n",
    "\n",
    "接下来我们将构建一个神经网络来对 FashionMNIST 数据集中的图像进行分类。"
   ]
  },
  {
   "cell_type": "code",
   "execution_count": 1,
   "id": "c4f5938c",
   "metadata": {},
   "outputs": [],
   "source": [
    "import os\n",
    "import torch\n",
    "from torch import nn\n",
    "from torch.utils.data import DataLoader\n",
    "from torchvision import datasets, transforms"
   ]
  },
  {
   "cell_type": "markdown",
   "id": "7f1313eb",
   "metadata": {},
   "source": [
    "## 获取训练设备\n",
    "\n",
    "我们希望能够在 GPU 之类的硬件加速器上训练我们的模型，如果它可用的话。我们去看看 [torch.cuda](https://pytorch.org/docs/stable/notes/cuda.html) 可用，否则我们继续使用 CPU。"
   ]
  },
  {
   "cell_type": "code",
   "execution_count": 2,
   "id": "98d3dec0",
   "metadata": {},
   "outputs": [
    {
     "name": "stdout",
     "output_type": "stream",
     "text": [
      "Using cuda device\n"
     ]
    }
   ],
   "source": [
    "device = 'cuda' if torch.cuda.is_available() else 'cpu'\n",
    "print('Using {} device'.format(device))"
   ]
  },
  {
   "cell_type": "markdown",
   "id": "1e98cfe8",
   "metadata": {},
   "source": [
    "## 定义类\n",
    "\n",
    "通过子类化 `nn.Module` 来定义神经网络。模块，并在 `__init__` 中初始化神经网络层。每一个神经网络。模块的子类在forward方法中实现对输入数据的操作。"
   ]
  },
  {
   "cell_type": "code",
   "execution_count": 3,
   "id": "f9d78c94",
   "metadata": {},
   "outputs": [],
   "source": [
    "class NeuralNetwork(nn.Module):\n",
    "    def __init__(self):\n",
    "        super().__init__()\n",
    "        self.flatten = nn.Flatten()\n",
    "        self.linear_relu_stack = nn.Sequential(\n",
    "            nn.Linear(28*28, 512),\n",
    "            nn.ReLU(),\n",
    "            nn.Linear(512, 512),\n",
    "            nn.ReLU(),\n",
    "            nn.Linear(512, 10),\n",
    "            nn.ReLU()\n",
    "        )\n",
    "\n",
    "    def forward(self, x):\n",
    "        x = self.flatten(x)\n",
    "        logits = self.linear_relu_stack(x)\n",
    "        return logits"
   ]
  },
  {
   "cell_type": "code",
   "execution_count": null,
   "id": "8a27294d",
   "metadata": {},
   "outputs": [],
   "source": []
  }
 ],
 "metadata": {
  "jupytext": {
   "formats": "md,ipynb",
   "text_representation": {
    "extension": ".md",
    "format_name": "myst",
    "format_version": 0.13,
    "jupytext_version": "1.10.3"
   }
  },
  "kernelspec": {
   "display_name": "PyTorch",
   "language": "python",
   "name": "torch"
  },
  "language_info": {
   "codemirror_mode": {
    "name": "ipython",
    "version": 3
   },
   "file_extension": ".py",
   "mimetype": "text/x-python",
   "name": "python",
   "nbconvert_exporter": "python",
   "pygments_lexer": "ipython3",
   "version": "3.9.5"
  },
  "nbTranslate": {
   "displayLangs": [
    "*"
   ],
   "hotkey": "alt-t",
   "langInMainMenu": true,
   "sourceLang": "en",
   "targetLang": "fr",
   "useGoogleTranslate": true
  }
 },
 "nbformat": 4,
 "nbformat_minor": 5
}
