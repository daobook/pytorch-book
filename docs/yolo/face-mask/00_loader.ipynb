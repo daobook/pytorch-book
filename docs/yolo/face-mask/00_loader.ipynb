{
 "cells": [
  {
   "cell_type": "markdown",
   "id": "b616f22e",
   "metadata": {},
   "source": [
    "# 准备工作\n",
    "\n",
    "详细内容见：[训练自定义数据](yolo:tutorials:train-custom-datasets)\n",
    "\n",
    "从 Kaggle 下载 [数据集](https://www.kaggle.com/andrewmvd/face-mask-detection)：\n",
    "\n",
    "```sh\n",
    "kaggle datasets download -d andrewmvd/face-mask-detection\n",
    "```\n",
    "\n",
    "解压到 `root`（可自行决定）："
   ]
  },
  {
   "cell_type": "code",
   "execution_count": 1,
   "id": "29af8fac",
   "metadata": {},
   "outputs": [],
   "source": [
    "# 数据集根目录\n",
    "root = r\"E:\\kaggle\\datasets\\face-mask-detection\"\n",
    "# 标签名称\n",
    "names = ['with_mask', 'mask_weared_incorrect', 'without_mask']"
   ]
  },
  {
   "cell_type": "markdown",
   "id": "8206653d",
   "metadata": {},
   "source": [
    "导入一些库："
   ]
  },
  {
   "cell_type": "code",
   "execution_count": 2,
   "id": "14bf7fe8",
   "metadata": {},
   "outputs": [],
   "source": [
    "from pathlib import Path\n",
    "\n",
    "from tools.file import ObjectPath"
   ]
  },
  {
   "cell_type": "markdown",
   "id": "518eab0c",
   "metadata": {},
   "source": [
    "1. 将数据集划分为训练集（$80\\%$）、验证集（$20\\%$）。\n",
    "2. 从验证集取出若干（如 `show_count=5`）作为测试集。"
   ]
  },
  {
   "cell_type": "code",
   "execution_count": 3,
   "id": "67271761",
   "metadata": {},
   "outputs": [],
   "source": [
    "dataset = ObjectPath(root, names)\n",
    "dataset.split(show_count=5)"
   ]
  },
  {
   "cell_type": "markdown",
   "id": "1b305fff",
   "metadata": {},
   "source": [
    "查看测试集："
   ]
  },
  {
   "cell_type": "code",
   "execution_count": 4,
   "id": "4d3d2b79",
   "metadata": {},
   "outputs": [
    {
     "data": {
      "text/plain": [
       "['E:/kaggle/datasets/face-mask-detection/images/maksssksksss330.png',\n",
       " 'E:/kaggle/datasets/face-mask-detection/images/maksssksksss241.png',\n",
       " 'E:/kaggle/datasets/face-mask-detection/images/maksssksksss697.png',\n",
       " 'E:/kaggle/datasets/face-mask-detection/images/maksssksksss571.png',\n",
       " 'E:/kaggle/datasets/face-mask-detection/images/maksssksksss311.png']"
      ]
     },
     "execution_count": 4,
     "metadata": {},
     "output_type": "execute_result"
    }
   ],
   "source": [
    "dataset.images_test"
   ]
  },
  {
   "cell_type": "code",
   "execution_count": 5,
   "id": "fa36d911",
   "metadata": {},
   "outputs": [
    {
     "data": {
      "text/plain": [
       "['E:/kaggle/datasets/face-mask-detection/annotations/maksssksksss330.xml',\n",
       " 'E:/kaggle/datasets/face-mask-detection/annotations/maksssksksss241.xml',\n",
       " 'E:/kaggle/datasets/face-mask-detection/annotations/maksssksksss697.xml',\n",
       " 'E:/kaggle/datasets/face-mask-detection/annotations/maksssksksss571.xml',\n",
       " 'E:/kaggle/datasets/face-mask-detection/annotations/maksssksksss311.xml']"
      ]
     },
     "execution_count": 5,
     "metadata": {},
     "output_type": "execute_result"
    }
   ],
   "source": [
    "dataset.labels_test"
   ]
  },
  {
   "cell_type": "markdown",
   "id": "1b19bffb",
   "metadata": {},
   "source": [
    "## 复制图片数据"
   ]
  },
  {
   "cell_type": "code",
   "execution_count": 6,
   "id": "04528387",
   "metadata": {},
   "outputs": [],
   "source": [
    "new_root = 'datasets' # 目标目录\n",
    "images_dir = f\"{new_root}/images\""
   ]
  },
  {
   "cell_type": "markdown",
   "id": "78c0ad5d",
   "metadata": {},
   "source": [
    "将图片数据按照已经划分好的规则复制到新的目录："
   ]
  },
  {
   "cell_type": "code",
   "execution_count": 7,
   "id": "80afed0e",
   "metadata": {
    "scrolled": true
   },
   "outputs": [],
   "source": [
    "dataset.copy_images(images_dir)"
   ]
  },
  {
   "cell_type": "markdown",
   "id": "bf4bf03e",
   "metadata": {},
   "source": [
    "## 制作标签数据"
   ]
  },
  {
   "cell_type": "code",
   "execution_count": 8,
   "id": "5fd13bea",
   "metadata": {},
   "outputs": [],
   "source": [
    "labels_dir = f\"{new_root}/labels\""
   ]
  },
  {
   "cell_type": "markdown",
   "id": "226ad6f2",
   "metadata": {},
   "source": [
    "标签需要归一化："
   ]
  },
  {
   "cell_type": "code",
   "execution_count": 9,
   "id": "98071a35",
   "metadata": {},
   "outputs": [],
   "source": [
    "dataset.write_labels(labels_dir)"
   ]
  },
  {
   "cell_type": "markdown",
   "id": "c3f1bc3b",
   "metadata": {},
   "source": [
    "## 制作 YAML"
   ]
  },
  {
   "cell_type": "code",
   "execution_count": 1,
   "id": "f9fb1b85",
   "metadata": {},
   "outputs": [],
   "source": [
    "from tools.file import make_yaml"
   ]
  },
  {
   "cell_type": "code",
   "execution_count": 2,
   "id": "87bbc742",
   "metadata": {},
   "outputs": [],
   "source": [
    "root = 'datasets'\n",
    "model_name = 'yolov5l'\n",
    "# 标签名称\n",
    "names = ['with_mask', 'mask_weared_incorrect', 'without_mask']\n",
    "make_yaml(root, names, model_name)"
   ]
  },
  {
   "cell_type": "markdown",
   "id": "87f45eca",
   "metadata": {},
   "source": [
    "## 克隆仓库"
   ]
  },
  {
   "cell_type": "code",
   "execution_count": 3,
   "id": "acbaf39a",
   "metadata": {},
   "outputs": [],
   "source": [
    "ROOT = 'yolov5/' # YOLOv5 根目录\n",
    "\n",
    "if not Path(ROOT).exists():\n",
    "    !git clone https://github.com.cnpmjs.org/ultralytics/yolov5.git {ROOT}\n",
    "#!pip3 install -qr {yolo_path}requirements.txt"
   ]
  },
  {
   "cell_type": "code",
   "execution_count": null,
   "id": "8a4e5130",
   "metadata": {},
   "outputs": [],
   "source": []
  }
 ],
 "metadata": {
  "kernelspec": {
   "display_name": "PyTorch",
   "language": "python",
   "name": "torch"
  },
  "language_info": {
   "codemirror_mode": {
    "name": "ipython",
    "version": 3
   },
   "file_extension": ".py",
   "mimetype": "text/x-python",
   "name": "python",
   "nbconvert_exporter": "python",
   "pygments_lexer": "ipython3",
   "version": "3.9.5"
  },
  "nbTranslate": {
   "displayLangs": [
    "*"
   ],
   "hotkey": "alt-t",
   "langInMainMenu": true,
   "sourceLang": "en",
   "targetLang": "fr",
   "useGoogleTranslate": true
  }
 },
 "nbformat": 4,
 "nbformat_minor": 5
}
