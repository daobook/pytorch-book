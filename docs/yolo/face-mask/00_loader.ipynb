{
 "cells": [
  {
   "cell_type": "markdown",
   "id": "b616f22e",
   "metadata": {},
   "source": [
    "# 准备工作\n",
    "\n",
    "详细内容见：[训练自定义数据](yolo:tutorials:train-custom-datasets)\n",
    "\n",
    "从 Kaggle 下载 [数据集](https://www.kaggle.com/andrewmvd/face-mask-detection)：\n",
    "\n",
    "```sh\n",
    "kaggle datasets download -d andrewmvd/face-mask-detection\n",
    "```\n",
    "\n",
    "解压到 `root`（可自行决定）："
   ]
  },
  {
   "cell_type": "code",
   "execution_count": 1,
   "id": "29af8fac",
   "metadata": {},
   "outputs": [],
   "source": [
    "# 数据集根目录\n",
    "root = r\"/home/znjs/xinet/ai/face-mask-detection\"\n",
    "# 标签名称\n",
    "names = ['with_mask', 'mask_weared_incorrect', 'without_mask']"
   ]
  },
  {
   "cell_type": "markdown",
   "id": "8206653d",
   "metadata": {},
   "source": [
    "导入一些库："
   ]
  },
  {
   "cell_type": "code",
   "execution_count": 2,
   "id": "14bf7fe8",
   "metadata": {},
   "outputs": [],
   "source": [
    "from pathlib import Path\n",
    "\n",
    "from tools.file import ObjectPath"
   ]
  },
  {
   "cell_type": "markdown",
   "id": "518eab0c",
   "metadata": {},
   "source": [
    "1. 将数据集划分为训练集（$80\\%$）、验证集（$20\\%$）。\n",
    "2. 从验证集取出若干（如 `show_count=5`）作为测试集。"
   ]
  },
  {
   "cell_type": "code",
   "execution_count": 3,
   "id": "67271761",
   "metadata": {},
   "outputs": [],
   "source": [
    "dataset = ObjectPath(root, names)\n",
    "dataset.split(show_count=5)"
   ]
  },
  {
   "cell_type": "markdown",
   "id": "1b305fff",
   "metadata": {},
   "source": [
    "查看测试集："
   ]
  },
  {
   "cell_type": "code",
   "execution_count": 4,
   "id": "4d3d2b79",
   "metadata": {},
   "outputs": [
    {
     "data": {
      "text/plain": [
       "['/home/znjs/xinet/ai/face-mask-detection/images/maksssksksss753.png',\n",
       " '/home/znjs/xinet/ai/face-mask-detection/images/maksssksksss18.png',\n",
       " '/home/znjs/xinet/ai/face-mask-detection/images/maksssksksss76.png',\n",
       " '/home/znjs/xinet/ai/face-mask-detection/images/maksssksksss581.png',\n",
       " '/home/znjs/xinet/ai/face-mask-detection/images/maksssksksss17.png']"
      ]
     },
     "execution_count": 4,
     "metadata": {},
     "output_type": "execute_result"
    }
   ],
   "source": [
    "dataset.images_test"
   ]
  },
  {
   "cell_type": "code",
   "execution_count": 5,
   "id": "fa36d911",
   "metadata": {},
   "outputs": [
    {
     "data": {
      "text/plain": [
       "['/home/znjs/xinet/ai/face-mask-detection/annotations/maksssksksss753.xml',\n",
       " '/home/znjs/xinet/ai/face-mask-detection/annotations/maksssksksss18.xml',\n",
       " '/home/znjs/xinet/ai/face-mask-detection/annotations/maksssksksss76.xml',\n",
       " '/home/znjs/xinet/ai/face-mask-detection/annotations/maksssksksss581.xml',\n",
       " '/home/znjs/xinet/ai/face-mask-detection/annotations/maksssksksss17.xml']"
      ]
     },
     "execution_count": 5,
     "metadata": {},
     "output_type": "execute_result"
    }
   ],
   "source": [
    "dataset.labels_test"
   ]
  },
  {
   "cell_type": "markdown",
   "id": "1b19bffb",
   "metadata": {},
   "source": [
    "## 复制图片数据"
   ]
  },
  {
   "cell_type": "code",
   "execution_count": 6,
   "id": "04528387",
   "metadata": {},
   "outputs": [],
   "source": [
    "new_root = 'datasets' # 目标目录\n",
    "images_dir = f\"{new_root}/images\""
   ]
  },
  {
   "cell_type": "markdown",
   "id": "78c0ad5d",
   "metadata": {},
   "source": [
    "将图片数据按照已经划分好的规则复制到新的目录："
   ]
  },
  {
   "cell_type": "code",
   "execution_count": 7,
   "id": "80afed0e",
   "metadata": {
    "scrolled": true
   },
   "outputs": [],
   "source": [
    "dataset.copy_images(images_dir)"
   ]
  },
  {
   "cell_type": "markdown",
   "id": "bf4bf03e",
   "metadata": {},
   "source": [
    "## 制作标签数据"
   ]
  },
  {
   "cell_type": "code",
   "execution_count": 8,
   "id": "5fd13bea",
   "metadata": {},
   "outputs": [],
   "source": [
    "labels_dir = f\"{new_root}/labels\""
   ]
  },
  {
   "cell_type": "markdown",
   "id": "226ad6f2",
   "metadata": {},
   "source": [
    "标签需要归一化："
   ]
  },
  {
   "cell_type": "code",
   "execution_count": 9,
   "id": "98071a35",
   "metadata": {},
   "outputs": [],
   "source": [
    "dataset.write_labels(labels_dir)"
   ]
  },
  {
   "cell_type": "markdown",
   "id": "c3f1bc3b",
   "metadata": {},
   "source": [
    "## 制作 YAML"
   ]
  },
  {
   "cell_type": "code",
   "execution_count": 10,
   "id": "f9fb1b85",
   "metadata": {},
   "outputs": [],
   "source": [
    "from tools.file import make_yaml"
   ]
  },
  {
   "cell_type": "code",
   "execution_count": 11,
   "id": "87bbc742",
   "metadata": {},
   "outputs": [],
   "source": [
    "root = 'datasets'\n",
    "config_name = 'face-mask'\n",
    "# 标签名称\n",
    "names = ['with_mask', 'mask_weared_incorrect', 'without_mask']\n",
    "make_yaml(root, names, config_name)"
   ]
  },
  {
   "cell_type": "markdown",
   "id": "87f45eca",
   "metadata": {},
   "source": [
    "## 克隆仓库"
   ]
  },
  {
   "cell_type": "code",
   "execution_count": 12,
   "id": "acbaf39a",
   "metadata": {},
   "outputs": [
    {
     "name": "stdout",
     "output_type": "stream",
     "text": [
      "正克隆到 'yolov5'...\n",
      "remote: Enumerating objects: 10555, done.\u001b[K\n",
      "remote: Total 10555 (delta 0), reused 0 (delta 0), pack-reused 10555\u001b[K\n",
      "接收对象中: 100% (10555/10555), 10.74 MiB | 5.13 MiB/s, 完成.\n",
      "处理 delta 中: 100% (7292/7292), 完成.\n"
     ]
    }
   ],
   "source": [
    "ROOT = 'yolov5/' # YOLOv5 根目录\n",
    "\n",
    "if not Path(ROOT).exists():\n",
    "    !git clone https://github.com.cnpmjs.org/ultralytics/yolov5.git {ROOT}\n",
    "#!pip3 install -qr {yolo_path}requirements.txt"
   ]
  },
  {
   "cell_type": "code",
   "execution_count": null,
   "id": "8a4e5130",
   "metadata": {},
   "outputs": [],
   "source": []
  }
 ],
 "metadata": {
  "interpreter": {
   "hash": "fedb6aa12f88af5f27586bd720a3fc8722d690a511fe1919483fa1ede0c14a80"
  },
  "kernelspec": {
   "display_name": "PyTorch",
   "language": "python",
   "name": "python3"
  },
  "language_info": {
   "codemirror_mode": {
    "name": "ipython",
    "version": 3
   },
   "file_extension": ".py",
   "mimetype": "text/x-python",
   "name": "python",
   "nbconvert_exporter": "python",
   "pygments_lexer": "ipython3",
   "version": "3.9.9"
  },
  "nbTranslate": {
   "displayLangs": [
    "*"
   ],
   "hotkey": "alt-t",
   "langInMainMenu": true,
   "sourceLang": "en",
   "targetLang": "fr",
   "useGoogleTranslate": true
  }
 },
 "nbformat": 4,
 "nbformat_minor": 5
}
