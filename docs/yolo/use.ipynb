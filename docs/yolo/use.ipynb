{
 "cells": [
  {
   "cell_type": "markdown",
   "id": "9b26c2ca",
   "metadata": {},
   "source": [
    "# 简单使用\n",
    "\n",
    "## 推理\n",
    "\n",
    "使用 YOLOv5和 [PyTorch Hub](https://github.com/ultralytics/yolov5/issues/36) 的推理。从[最新的 YOLOv5 版本](https://github.com/ultralytics/yolov5/releases)自动下载模型。\n",
    "\n",
    "这个示例加载一个预训练的 YOLOv5s 模型，并传递一个用于推断的图像。YOLOv5 接受 **URL**, **Filename**, **PIL**, **OpenCV**, **Numpy** 和 **PyTorch** 输入，并返回检测 torch、pandas 和 JSON 输出格式。有关详细信息，请参见 [YOLOv5 PyTorch Hub 教程](https://github.com/ultralytics/yolov5/issues/36)。"
   ]
  },
  {
   "cell_type": "code",
   "execution_count": 2,
   "id": "142e2773",
   "metadata": {
    "scrolled": true
   },
   "outputs": [
    {
     "name": "stderr",
     "output_type": "stream",
     "text": [
      "Using cache found in models/ultralytics_yolov5_master\n",
      "YOLOv5  517e745 torch 1.10.0 CUDA:0 (NVIDIA GeForce GTX 1080 Ti, 11264MiB)\n",
      "\n"
     ]
    },
    {
     "name": "stdout",
     "output_type": "stream",
     "text": [
      "Downloading https://github.com/ultralytics/yolov5/releases/download/v6.0/yolov5s.pt to yolov5s.pt...\n"
     ]
    },
    {
     "data": {
      "application/vnd.jupyter.widget-view+json": {
       "model_id": "0fa1ce86ba324ff38d2c1f5e89447968",
       "version_major": 2,
       "version_minor": 0
      },
      "text/plain": [
       "  0%|          | 0.00/14.0M [00:00<?, ?B/s]"
      ]
     },
     "metadata": {},
     "output_type": "display_data"
    },
    {
     "name": "stdout",
     "output_type": "stream",
     "text": [
      "\n"
     ]
    },
    {
     "name": "stderr",
     "output_type": "stream",
     "text": [
      "Fusing layers... \n",
      "Model Summary: 213 layers, 7225885 parameters, 0 gradients\n",
      "Adding AutoShape... \n"
     ]
    }
   ],
   "source": [
    "import torch\n",
    "\n",
    "# 载入模型\n",
    "model = torch.hub.load('ultralytics/yolov5', 'yolov5s')  # or yolov5m, yolov5x, custom"
   ]
  },
  {
   "cell_type": "code",
   "execution_count": 3,
   "id": "7027418a",
   "metadata": {},
   "outputs": [
    {
     "name": "stderr",
     "output_type": "stream",
     "text": [
      "image 1/1: 720x1280 2 persons, 1 tie\n",
      "Speed: 41.0ms pre-process, 41.5ms inference, 18.0ms NMS per image at shape (1, 3, 384, 640)\n"
     ]
    }
   ],
   "source": [
    "# 图片来源 https://ultralytics.com/images/zidane.jpg\n",
    "img = 'images/zidane.jpg'  # or file, PIL, OpenCV, numpy, multiple\n",
    "\n",
    "# 推理本地图片\n",
    "results = model(img)\n",
    "\n",
    "# 结果\n",
    "results.print()  # or .show(), .save(), .crop(), .pandas(), etc."
   ]
  },
  {
   "cell_type": "code",
   "execution_count": 4,
   "id": "ceea9400",
   "metadata": {},
   "outputs": [
    {
     "data": {
      "text/plain": [
       "tensor([[7.51908e+02, 4.55721e+01, 1.14855e+03, 7.16218e+02, 8.75046e-01, 0.00000e+00],\n",
       "        [1.00013e+02, 2.01290e+02, 1.00205e+03, 7.18763e+02, 5.79518e-01, 0.00000e+00],\n",
       "        [4.38405e+02, 4.21902e+02, 5.09925e+02, 7.20000e+02, 5.22344e-01, 2.70000e+01]], device='cuda:0')"
      ]
     },
     "execution_count": 4,
     "metadata": {},
     "output_type": "execute_result"
    }
   ],
   "source": [
    "results.xyxy[0] # 张量结果"
   ]
  },
  {
   "cell_type": "code",
   "execution_count": 5,
   "id": "bc683007",
   "metadata": {},
   "outputs": [
    {
     "data": {
      "text/html": [
       "<div>\n",
       "<style scoped>\n",
       "    .dataframe tbody tr th:only-of-type {\n",
       "        vertical-align: middle;\n",
       "    }\n",
       "\n",
       "    .dataframe tbody tr th {\n",
       "        vertical-align: top;\n",
       "    }\n",
       "\n",
       "    .dataframe thead th {\n",
       "        text-align: right;\n",
       "    }\n",
       "</style>\n",
       "<table border=\"1\" class=\"dataframe\">\n",
       "  <thead>\n",
       "    <tr style=\"text-align: right;\">\n",
       "      <th></th>\n",
       "      <th>xmin</th>\n",
       "      <th>ymin</th>\n",
       "      <th>xmax</th>\n",
       "      <th>ymax</th>\n",
       "      <th>confidence</th>\n",
       "      <th>class</th>\n",
       "      <th>name</th>\n",
       "    </tr>\n",
       "  </thead>\n",
       "  <tbody>\n",
       "    <tr>\n",
       "      <th>0</th>\n",
       "      <td>751.908325</td>\n",
       "      <td>45.572083</td>\n",
       "      <td>1148.552246</td>\n",
       "      <td>716.218262</td>\n",
       "      <td>0.875046</td>\n",
       "      <td>0</td>\n",
       "      <td>person</td>\n",
       "    </tr>\n",
       "    <tr>\n",
       "      <th>1</th>\n",
       "      <td>100.012848</td>\n",
       "      <td>201.289825</td>\n",
       "      <td>1002.052246</td>\n",
       "      <td>718.762817</td>\n",
       "      <td>0.579518</td>\n",
       "      <td>0</td>\n",
       "      <td>person</td>\n",
       "    </tr>\n",
       "    <tr>\n",
       "      <th>2</th>\n",
       "      <td>438.405060</td>\n",
       "      <td>421.902466</td>\n",
       "      <td>509.924774</td>\n",
       "      <td>720.000000</td>\n",
       "      <td>0.522344</td>\n",
       "      <td>27</td>\n",
       "      <td>tie</td>\n",
       "    </tr>\n",
       "  </tbody>\n",
       "</table>\n",
       "</div>"
      ],
      "text/plain": [
       "         xmin        ymin         xmax        ymax  confidence  class    name\n",
       "0  751.908325   45.572083  1148.552246  716.218262    0.875046      0  person\n",
       "1  100.012848  201.289825  1002.052246  718.762817    0.579518      0  person\n",
       "2  438.405060  421.902466   509.924774  720.000000    0.522344     27     tie"
      ]
     },
     "execution_count": 5,
     "metadata": {},
     "output_type": "execute_result"
    }
   ],
   "source": [
    "results.pandas().xyxy[0] # pandas 结果"
   ]
  },
  {
   "cell_type": "markdown",
   "id": "e084b067",
   "metadata": {},
   "source": [
    "### 批量图片"
   ]
  },
  {
   "cell_type": "code",
   "execution_count": 11,
   "id": "fc50309e",
   "metadata": {},
   "outputs": [
    {
     "name": "stderr",
     "output_type": "stream",
     "text": [
      "image 1/2: 720x1280 2 persons, 1 tie\n",
      "image 2/2: 1080x810 4 persons, 1 bus\n",
      "Speed: 38.5ms pre-process, 21.0ms inference, 4.0ms NMS per image at shape (2, 3, 640, 640)\n"
     ]
    }
   ],
   "source": [
    "_dir = 'images/'\n",
    "imgs = [_dir + f for f in ('zidane.jpg', 'bus.jpg')]\n",
    "\n",
    "# 推理\n",
    "results = model(imgs)\n",
    "results.print()  # or .show(), .save()"
   ]
  },
  {
   "cell_type": "markdown",
   "id": "a00ec03f",
   "metadata": {},
   "source": [
    "### 使用 `detect.py` 推理\n",
    "\n",
    "`detect.py` 对各种源运行推断，自动从[最新的 YOLOv5 版本](https://github.com/ultralytics/yolov5/releases)下载模型，并将结果保存到 `runs/detect`。\n",
    "\n",
    "```shell\n",
    "python detect.py --source 0  # webcam\n",
    "                            file.jpg  # image \n",
    "                            file.mp4  # video\n",
    "                            path/  # directory\n",
    "                            path/*.jpg  # glob\n",
    "                            'https://youtu.be/NUsoVlDFqZg'  # YouTube video\n",
    "                            'rtsp://example.com/media.mp4'  # RTSP, RTMP, HTTP stream\n",
    "```\n",
    "\n",
    "## 训练\n",
    "\n",
    "运行下面的命令在 COCO 数据集上重现结果（数据集第一次使用时自动下载）。在单个 V100 上，YOLOv5s/m/l/x 的训练时间是2/4/6/8天（多 gpu 更快）。使用 GPU 允许的最大批处理大小（16GB 设备的批处理大小）。\n",
    "\n",
    "```shell\n",
    "python train.py --data coco.yaml --cfg yolov5s.yaml --weights '' --batch-size 64\n",
    "                                         yolov5m                                40\n",
    "                                         yolov5l                                24\n",
    "                                         yolov5x                                16\n",
    "```\n",
    "\n",
    "![](./images/coco-yolov5.png)"
   ]
  }
 ],
 "metadata": {
  "interpreter": {
   "hash": "b9674a63e071d82efc24a7bd55c3399e0be8bf8ee990a2a97fd04d90977e4f42"
  },
  "jupytext": {
   "formats": "md:myst,ipynb"
  },
  "kernelspec": {
   "display_name": "Python 3",
   "language": "python",
   "name": "python3"
  },
  "language_info": {
   "codemirror_mode": {
    "name": "ipython",
    "version": 3
   },
   "file_extension": ".py",
   "mimetype": "text/x-python",
   "name": "python",
   "nbconvert_exporter": "python",
   "pygments_lexer": "ipython3",
   "version": "3.9.5"
  },
  "nbTranslate": {
   "displayLangs": [
    "*"
   ],
   "hotkey": "alt-t",
   "langInMainMenu": true,
   "sourceLang": "en",
   "targetLang": "fr",
   "useGoogleTranslate": true
  }
 },
 "nbformat": 4,
 "nbformat_minor": 5
}
