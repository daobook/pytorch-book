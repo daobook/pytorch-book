{
 "cells": [
  {
   "cell_type": "markdown",
   "id": "9b26c2ca",
   "metadata": {},
   "source": [
    "# 简单使用\n",
    "\n",
    "## 推理\n",
    "\n",
    "使用 YOLOv5和 [PyTorch Hub](https://github.com/ultralytics/yolov5/issues/36) 的推理。从[最新的 YOLOv5 版本](https://github.com/ultralytics/yolov5/releases)自动下载模型。\n",
    "\n",
    "这个示例加载一个预训练的 YOLOv5s 模型，并传递一个用于推断的图像。YOLOv5 接受 **URL**, **Filename**, **PIL**, **OpenCV**, **Numpy** 和 **PyTorch** 输入，并返回检测 torch、pandas 和 JSON 输出格式。有关详细信息，请参见 [YOLOv5 PyTorch Hub 教程](https://github.com/ultralytics/yolov5/issues/36)。"
   ]
  },
  {
   "cell_type": "code",
   "execution_count": 1,
   "id": "bc683007",
   "metadata": {},
   "outputs": [
    {
     "name": "stderr",
     "output_type": "stream",
     "text": [
      "Using cache found in ../../models/ultralytics_yolov5_master\n",
      "Fusing layers... \n",
      "C:\\Users\\xinet\\.conda\\envs\\torch\\lib\\site-packages\\torch\\nn\\functional.py:718: UserWarning: Named tensors and all their associated APIs are an experimental feature and subject to change. Please do not use them for anything important until they are released as stable. (Triggered internally at  ..\\c10/core/TensorImpl.h:1156.)\n",
      "  return torch.max_pool2d(input, kernel_size, stride, padding, dilation, ceil_mode)\n",
      "Model Summary: 224 layers, 7266973 parameters, 0 gradients\n",
      "Adding AutoShape... \n",
      "YOLOv5  92bc73f torch 1.9.0 CUDA:0 (NVIDIA GeForce GTX 1080 Ti, 11264.0MB)\n",
      "\n"
     ]
    },
    {
     "name": "stdout",
     "output_type": "stream",
     "text": [
      "image 1/1: 720x1280 2 persons, 2 ties\n",
      "Speed: 38.8ms pre-process, 1147.4ms inference, 11.0ms NMS per image at shape (1, 3, 384, 640)\n"
     ]
    },
    {
     "data": {
      "text/html": [
       "<div>\n",
       "<style scoped>\n",
       "    .dataframe tbody tr th:only-of-type {\n",
       "        vertical-align: middle;\n",
       "    }\n",
       "\n",
       "    .dataframe tbody tr th {\n",
       "        vertical-align: top;\n",
       "    }\n",
       "\n",
       "    .dataframe thead th {\n",
       "        text-align: right;\n",
       "    }\n",
       "</style>\n",
       "<table border=\"1\" class=\"dataframe\">\n",
       "  <thead>\n",
       "    <tr style=\"text-align: right;\">\n",
       "      <th></th>\n",
       "      <th>xmin</th>\n",
       "      <th>ymin</th>\n",
       "      <th>xmax</th>\n",
       "      <th>ymax</th>\n",
       "      <th>confidence</th>\n",
       "      <th>class</th>\n",
       "      <th>name</th>\n",
       "    </tr>\n",
       "  </thead>\n",
       "  <tbody>\n",
       "    <tr>\n",
       "      <th>0</th>\n",
       "      <td>750.0</td>\n",
       "      <td>43.00</td>\n",
       "      <td>1148.0</td>\n",
       "      <td>709.0</td>\n",
       "      <td>0.876953</td>\n",
       "      <td>0</td>\n",
       "      <td>person</td>\n",
       "    </tr>\n",
       "    <tr>\n",
       "      <th>1</th>\n",
       "      <td>433.5</td>\n",
       "      <td>434.00</td>\n",
       "      <td>518.0</td>\n",
       "      <td>715.0</td>\n",
       "      <td>0.658203</td>\n",
       "      <td>27</td>\n",
       "      <td>tie</td>\n",
       "    </tr>\n",
       "    <tr>\n",
       "      <th>2</th>\n",
       "      <td>113.5</td>\n",
       "      <td>196.25</td>\n",
       "      <td>1092.0</td>\n",
       "      <td>710.0</td>\n",
       "      <td>0.596191</td>\n",
       "      <td>0</td>\n",
       "      <td>person</td>\n",
       "    </tr>\n",
       "    <tr>\n",
       "      <th>3</th>\n",
       "      <td>986.0</td>\n",
       "      <td>304.50</td>\n",
       "      <td>1028.0</td>\n",
       "      <td>420.0</td>\n",
       "      <td>0.284668</td>\n",
       "      <td>27</td>\n",
       "      <td>tie</td>\n",
       "    </tr>\n",
       "  </tbody>\n",
       "</table>\n",
       "</div>"
      ],
      "text/plain": [
       "    xmin    ymin    xmax   ymax  confidence  class    name\n",
       "0  750.0   43.00  1148.0  709.0    0.876953      0  person\n",
       "1  433.5  434.00   518.0  715.0    0.658203     27     tie\n",
       "2  113.5  196.25  1092.0  710.0    0.596191      0  person\n",
       "3  986.0  304.50  1028.0  420.0    0.284668     27     tie"
      ]
     },
     "execution_count": 1,
     "metadata": {},
     "output_type": "execute_result"
    }
   ],
   "source": [
    "import torch\n",
    "\n",
    "# 设置模型保持目录\n",
    "# torch.hub.set_dir('../../models/') \n",
    "\n",
    "# 模型\n",
    "model = torch.hub.load('ultralytics/yolov5', 'yolov5s')  # or yolov5m, yolov5x, custom\n",
    "\n",
    "# Images\n",
    "# https://ultralytics.com/images/zidane.jpg\n",
    "img = 'images/zidane.jpg'  # or file, PIL, OpenCV, numpy, multiple\n",
    "\n",
    "# Inference\n",
    "results = model(img)\n",
    "\n",
    "# Results\n",
    "results.print()  # or .show(), .save(), .crop(), .pandas(), etc.\n",
    "\n",
    "results.xyxy[0]  # img1 predictions (tensor)\n",
    "results.pandas().xyxy[0]  # img1 predictions (pandas)"
   ]
  },
  {
   "cell_type": "markdown",
   "id": "a00ec03f",
   "metadata": {},
   "source": [
    "### 使用 `detect.py` 推理\n",
    "\n",
    "`detect.py` 对各种源运行推断，自动从[最新的 YOLOv5 版本](https://github.com/ultralytics/yolov5/releases)下载模型，并将结果保存到 `runs/detect`。\n",
    "\n",
    "```shell\n",
    "python detect.py --source 0  # webcam\n",
    "                            file.jpg  # image \n",
    "                            file.mp4  # video\n",
    "                            path/  # directory\n",
    "                            path/*.jpg  # glob\n",
    "                            'https://youtu.be/NUsoVlDFqZg'  # YouTube video\n",
    "                            'rtsp://example.com/media.mp4'  # RTSP, RTMP, HTTP stream\n",
    "```"
   ]
  },
  {
   "cell_type": "markdown",
   "id": "32803361",
   "metadata": {},
   "source": [
    "## 训练\n",
    "\n",
    "运行下面的命令在 COCO 数据集上重现结果（数据集第一次使用时自动下载）。在单个V100上，YOLOv5s/m/l/x的培训时间是2/4/6/8天（多 gpu 更快）。使用 GPU 允许的最大批处理大小（16GB设备的批处理大小）。\n",
    "\n",
    "```shell\n",
    "python train.py --data coco.yaml --cfg yolov5s.yaml --weights '' --batch-size 64\n",
    "                                         yolov5m                                40\n",
    "                                         yolov5l                                24\n",
    "                                         yolov5x                                16\n",
    "```\n",
    "\n",
    "![](./images/coco-yolov5.png)"
   ]
  },
  {
   "cell_type": "code",
   "execution_count": null,
   "id": "5a26db0f",
   "metadata": {},
   "outputs": [],
   "source": []
  }
 ],
 "metadata": {
  "interpreter": {
   "hash": "b9674a63e071d82efc24a7bd55c3399e0be8bf8ee990a2a97fd04d90977e4f42"
  },
  "jupytext": {
   "formats": "md:myst,ipynb"
  },
  "kernelspec": {
   "display_name": "Python 3",
   "language": "python",
   "name": "python3"
  },
  "language_info": {
   "codemirror_mode": {
    "name": "ipython",
    "version": 3
   },
   "file_extension": ".py",
   "mimetype": "text/x-python",
   "name": "python",
   "nbconvert_exporter": "python",
   "pygments_lexer": "ipython3",
   "version": "3.9.5"
  },
  "nbTranslate": {
   "displayLangs": [
    "*"
   ],
   "hotkey": "alt-t",
   "langInMainMenu": true,
   "sourceLang": "en",
   "targetLang": "fr",
   "useGoogleTranslate": true
  }
 },
 "nbformat": 4,
 "nbformat_minor": 5
}
