{
 "cells": [
  {
   "cell_type": "markdown",
   "source": [
    "# 测试"
   ],
   "metadata": {}
  },
  {
   "cell_type": "code",
   "execution_count": null,
   "source": [
    "import torch\r\n",
    "torch.hub._validate_not_a_forked_repo=lambda a,b,c: True\r\n",
    "# Model\r\n",
    "model = torch.hub.load('ultralytics/yolov5', 'yolov5s')  # or yolov5m, yolov5l, yolov5x, custom\r\n",
    "\r\n",
    "# Images\r\n",
    "img = 'images/zidane.jpg'  # or file, Path, PIL, OpenCV, numpy, list\r\n",
    "\r\n",
    "# Inference\r\n",
    "results = model(img)\r\n",
    "\r\n",
    "# Results\r\n",
    "results.print()  # or .show(), .save(), .crop(), .pandas(), etc."
   ],
   "outputs": [],
   "metadata": {}
  },
  {
   "cell_type": "code",
   "execution_count": 21,
   "source": [
    "results.pandas().xyxyn[0]"
   ],
   "outputs": [
    {
     "output_type": "execute_result",
     "data": {
      "text/html": [
       "<div>\n",
       "<style scoped>\n",
       "    .dataframe tbody tr th:only-of-type {\n",
       "        vertical-align: middle;\n",
       "    }\n",
       "\n",
       "    .dataframe tbody tr th {\n",
       "        vertical-align: top;\n",
       "    }\n",
       "\n",
       "    .dataframe thead th {\n",
       "        text-align: right;\n",
       "    }\n",
       "</style>\n",
       "<table border=\"1\" class=\"dataframe\">\n",
       "  <thead>\n",
       "    <tr style=\"text-align: right;\">\n",
       "      <th></th>\n",
       "      <th>xmin</th>\n",
       "      <th>ymin</th>\n",
       "      <th>xmax</th>\n",
       "      <th>ymax</th>\n",
       "      <th>confidence</th>\n",
       "      <th>class</th>\n",
       "      <th>name</th>\n",
       "    </tr>\n",
       "  </thead>\n",
       "  <tbody>\n",
       "    <tr>\n",
       "      <th>0</th>\n",
       "      <td>0.585647</td>\n",
       "      <td>0.059731</td>\n",
       "      <td>0.897117</td>\n",
       "      <td>0.984360</td>\n",
       "      <td>0.876501</td>\n",
       "      <td>0</td>\n",
       "      <td>person</td>\n",
       "    </tr>\n",
       "    <tr>\n",
       "      <th>1</th>\n",
       "      <td>0.338669</td>\n",
       "      <td>0.602708</td>\n",
       "      <td>0.404616</td>\n",
       "      <td>0.993240</td>\n",
       "      <td>0.658130</td>\n",
       "      <td>27</td>\n",
       "      <td>tie</td>\n",
       "    </tr>\n",
       "    <tr>\n",
       "      <th>2</th>\n",
       "      <td>0.088528</td>\n",
       "      <td>0.272722</td>\n",
       "      <td>0.853946</td>\n",
       "      <td>0.986539</td>\n",
       "      <td>0.596343</td>\n",
       "      <td>0</td>\n",
       "      <td>person</td>\n",
       "    </tr>\n",
       "    <tr>\n",
       "      <th>3</th>\n",
       "      <td>0.770422</td>\n",
       "      <td>0.422700</td>\n",
       "      <td>0.803105</td>\n",
       "      <td>0.583554</td>\n",
       "      <td>0.285012</td>\n",
       "      <td>27</td>\n",
       "      <td>tie</td>\n",
       "    </tr>\n",
       "  </tbody>\n",
       "</table>\n",
       "</div>"
      ],
      "text/plain": [
       "       xmin      ymin      xmax      ymax  confidence  class    name\n",
       "0  0.585647  0.059731  0.897117  0.984360    0.876501      0  person\n",
       "1  0.338669  0.602708  0.404616  0.993240    0.658130     27     tie\n",
       "2  0.088528  0.272722  0.853946  0.986539    0.596343      0  person\n",
       "3  0.770422  0.422700  0.803105  0.583554    0.285012     27     tie"
      ]
     },
     "metadata": {},
     "execution_count": 21
    }
   ],
   "metadata": {}
  },
  {
   "cell_type": "code",
   "execution_count": null,
   "source": [],
   "outputs": [],
   "metadata": {}
  }
 ],
 "metadata": {
  "orig_nbformat": 4,
  "language_info": {
   "name": "python",
   "version": "3.9.6",
   "mimetype": "text/x-python",
   "codemirror_mode": {
    "name": "ipython",
    "version": 3
   },
   "pygments_lexer": "ipython3",
   "nbconvert_exporter": "python",
   "file_extension": ".py"
  },
  "kernelspec": {
   "name": "python3",
   "display_name": "Python 3.9.6 64-bit ('torch': conda)"
  },
  "interpreter": {
   "hash": "b9674a63e071d82efc24a7bd55c3399e0be8bf8ee990a2a97fd04d90977e4f42"
  }
 },
 "nbformat": 4,
 "nbformat_minor": 2
}